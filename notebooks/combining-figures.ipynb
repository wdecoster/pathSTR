{
 "cells": [
  {
   "cell_type": "code",
   "execution_count": 2,
   "metadata": {},
   "outputs": [],
   "source": [
    "import numpy as np\n",
    "from PIL import Image, ImageFont, ImageDraw\n",
    "import os"
   ]
  },
  {
   "cell_type": "code",
   "execution_count": 26,
   "metadata": {},
   "outputs": [],
   "source": [
    "def change_width_proportionally(img, height):\n",
    "    \"\"\"Change width of image proportional to given height.\"\"\"\n",
    "    hpercent = height / img.size[1]\n",
    "    proportional_width = int(img.size[0] * hpercent)\n",
    "    return img.resize((proportional_width, height), Image.LANCZOS)\n",
    "\n",
    "def make_same_height(image_list):\n",
    "    \"\"\"Make all images in input list the same height.\"\"\"\n",
    "    imgs = [Image.open(i) for i in image_list]\n",
    "    cropped = [crop(i) for i in imgs]\n",
    "    min_height = min([i.size[1] for i in cropped])\n",
    "    resized = [change_width_proportionally(img, min_height) for img in imgs]\n",
    "    return [np.asarray(i) for i in resized]\n",
    "\n",
    "def crop(img):\n",
    "    \"\"\"Crop image to remove white space.\"\"\"\n",
    "    img = img.convert('L')\n",
    "    img = np.array(img)\n",
    "    img = img[~np.all(img == 255, axis=1)]\n",
    "    img = img[:, ~np.all(img == 255, axis=0)]\n",
    "    return Image.fromarray(img)"
   ]
  },
  {
   "cell_type": "code",
   "execution_count": 28,
   "metadata": {},
   "outputs": [],
   "source": [
    "images = [\n",
    "    \"/home/wdecoster/temp/images_pathSTR/Figure 1A.jpeg\",\n",
    "    \"/home/wdecoster/temp/images_pathSTR/Figure 1B.jpeg\",\n",
    "]\n",
    "combined = Image.fromarray(np.hstack(make_same_height(images)))\n",
    "\n",
    "# Add text\n",
    "font = ImageFont.truetype(\"/usr/share/fonts/truetype/lato/Lato-Bold.ttf\", 40)\n",
    "draw = ImageDraw.Draw(combined)\n",
    "draw.text((5, 5), \"A\", (0, 0, 0), font=font)\n",
    "draw.text((700, 5), \"B\", (0, 0, 0), font=font)\n",
    "combined.save(\"/home/wdecoster/temp/images_pathSTR/Figure 1.jpeg\", dpi=combined.size)"
   ]
  },
  {
   "cell_type": "code",
   "execution_count": 31,
   "metadata": {},
   "outputs": [],
   "source": [
    "images = [\n",
    "    \"/home/wdecoster/temp/images_pathSTR/Figure 4A.jpeg\",\n",
    "    \"/home/wdecoster/temp/images_pathSTR/Figure 4B.jpeg\",\n",
    "]\n",
    "combined = Image.fromarray(np.hstack(make_same_height(images)))\n",
    "\n",
    "# Add text\n",
    "font = ImageFont.truetype(\"/usr/share/fonts/truetype/lato/Lato-Bold.ttf\", 40)\n",
    "draw = ImageDraw.Draw(combined)\n",
    "draw.text((5, 5), \"A\", (0, 0, 0), font=font)\n",
    "draw.text((630, 5), \"B\", (0, 0, 0), font=font)\n",
    "combined.save(\"/home/wdecoster/temp/images_pathSTR/Figure 4.jpeg\", dpi=combined.size)"
   ]
  },
  {
   "cell_type": "code",
   "execution_count": null,
   "metadata": {},
   "outputs": [],
   "source": []
  }
 ],
 "metadata": {
  "kernelspec": {
   "display_name": "data-analysis",
   "language": "python",
   "name": "python3"
  },
  "language_info": {
   "codemirror_mode": {
    "name": "ipython",
    "version": 3
   },
   "file_extension": ".py",
   "mimetype": "text/x-python",
   "name": "python",
   "nbconvert_exporter": "python",
   "pygments_lexer": "ipython3",
   "version": "3.10.10"
  }
 },
 "nbformat": 4,
 "nbformat_minor": 2
}
